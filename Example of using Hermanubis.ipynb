{
 "cells": [
  {
   "cell_type": "code",
   "execution_count": 1,
   "metadata": {
    "collapsed": true
   },
   "outputs": [],
   "source": [
    "%matplotlib inline"
   ]
  },
  {
   "cell_type": "code",
   "execution_count": 2,
   "metadata": {
    "collapsed": true
   },
   "outputs": [],
   "source": [
    "import pandas as pd\n",
    "import numpy as np\n",
    "from hermanubis.column import Column\n",
    "from hermanubis.expressions import Plus\n",
    "from hermanubis.cross_section import Abs, Average\n",
    "from hermanubis.delta import Delta, Delay\n",
    "from hermanubis.functions import FuncWrapper"
   ]
  },
  {
   "cell_type": "markdown",
   "metadata": {},
   "source": [
    "Thanks to the courtesy Yahoo for providing free historical data"
   ]
  },
  {
   "cell_type": "code",
   "execution_count": 3,
   "metadata": {
    "collapsed": true
   },
   "outputs": [],
   "source": [
    "pf = pd.read_pickle('data/HSI_const.pkl')"
   ]
  },
  {
   "cell_type": "code",
   "execution_count": 4,
   "metadata": {
    "collapsed": false
   },
   "outputs": [
    {
     "data": {
      "text/plain": [
       "<class 'pandas.core.panel.Panel'>\n",
       "Dimensions: 50 (items) x 4381 (major_axis) x 6 (minor_axis)\n",
       "Items axis: 0001.HK to 3988.HK\n",
       "Major_axis axis: 2000-01-03 to 2017-06-16\n",
       "Minor_axis axis: Open to Volume"
      ]
     },
     "execution_count": 4,
     "metadata": {},
     "output_type": "execute_result"
    }
   ],
   "source": [
    "pf"
   ]
  },
  {
   "cell_type": "markdown",
   "metadata": {},
   "source": [
    "Suppose we would like to construct the \"cross-sectional\" return among stocks in a basket. Now we consider the basket we are interested are the 50 stocks in the Pandas's Panel."
   ]
  },
  {
   "cell_type": "code",
   "execution_count": 5,
   "metadata": {
    "collapsed": true
   },
   "outputs": [],
   "source": [
    "close = Column('Close')\n",
    "log_close = FuncWrapper(close, func=np.log, long_name='Log', short_name='l', desc='Logarithm')\n",
    "log_ret = Delta(log_close, periods=1, fillna_val=0)\n",
    "avg = Average(log_ret)\n",
    "cross_section_ret = log_ret - Average(log_ret)"
   ]
  },
  {
   "cell_type": "markdown",
   "metadata": {},
   "source": [
    "Up to now we have just defined the expressions, nothing has calculated. When you inspect the object in iPython, it will tell how what sequeence the expression is constructed."
   ]
  },
  {
   "cell_type": "code",
   "execution_count": 6,
   "metadata": {
    "collapsed": false
   },
   "outputs": [
    {
     "data": {
      "text/plain": [
       "close"
      ]
     },
     "execution_count": 6,
     "metadata": {},
     "output_type": "execute_result"
    }
   ],
   "source": [
    "close"
   ]
  },
  {
   "cell_type": "code",
   "execution_count": 7,
   "metadata": {
    "collapsed": false
   },
   "outputs": [
    {
     "data": {
      "text/plain": [
       "Log(close)"
      ]
     },
     "execution_count": 7,
     "metadata": {},
     "output_type": "execute_result"
    }
   ],
   "source": [
    "log_close"
   ]
  },
  {
   "cell_type": "code",
   "execution_count": 8,
   "metadata": {
    "collapsed": false
   },
   "outputs": [
    {
     "data": {
      "text/plain": [
       "Delta(Log(close), 1)"
      ]
     },
     "execution_count": 8,
     "metadata": {},
     "output_type": "execute_result"
    }
   ],
   "source": [
    "log_ret"
   ]
  },
  {
   "cell_type": "code",
   "execution_count": 9,
   "metadata": {
    "collapsed": false
   },
   "outputs": [
    {
     "data": {
      "text/plain": [
       "Average(Delta(Log(close), 1))"
      ]
     },
     "execution_count": 9,
     "metadata": {},
     "output_type": "execute_result"
    }
   ],
   "source": [
    "avg"
   ]
  },
  {
   "cell_type": "code",
   "execution_count": 10,
   "metadata": {
    "collapsed": false
   },
   "outputs": [
    {
     "data": {
      "text/plain": [
       "Delta(Log(close), 1)-Average(Delta(Log(close), 1))"
      ]
     },
     "execution_count": 10,
     "metadata": {},
     "output_type": "execute_result"
    }
   ],
   "source": [
    "cross_section_ret"
   ]
  },
  {
   "cell_type": "markdown",
   "metadata": {},
   "source": [
    "Now we bind our final expression to the actual panel that constains the data, by evaluate function"
   ]
  },
  {
   "cell_type": "code",
   "execution_count": 11,
   "metadata": {
    "collapsed": false
   },
   "outputs": [
    {
     "name": "stderr",
     "output_type": "stream",
     "text": [
      "/Users/jchan/workspace/python/hermanubis/hermanubis/expressions.py:94: RuntimeWarning: invalid value encountered in subtract\n",
      "  val = arr1 - arr2[:,None]\n"
     ]
    }
   ],
   "source": [
    "cr = cross_section_ret.evaluate(pf)"
   ]
  },
  {
   "cell_type": "code",
   "execution_count": 12,
   "metadata": {
    "collapsed": false
   },
   "outputs": [
    {
     "data": {
      "text/html": [
       "<div>\n",
       "<style>\n",
       "    .dataframe thead tr:only-child th {\n",
       "        text-align: right;\n",
       "    }\n",
       "\n",
       "    .dataframe thead th {\n",
       "        text-align: left;\n",
       "    }\n",
       "\n",
       "    .dataframe tbody tr th {\n",
       "        vertical-align: top;\n",
       "    }\n",
       "</style>\n",
       "<table border=\"1\" class=\"dataframe\">\n",
       "  <thead>\n",
       "    <tr style=\"text-align: right;\">\n",
       "      <th></th>\n",
       "      <th>0001.HK</th>\n",
       "      <th>0002.HK</th>\n",
       "      <th>0003.HK</th>\n",
       "      <th>0004.HK</th>\n",
       "      <th>0005.HK</th>\n",
       "      <th>0006.HK</th>\n",
       "      <th>0011.HK</th>\n",
       "      <th>0012.HK</th>\n",
       "      <th>0016.HK</th>\n",
       "      <th>0017.HK</th>\n",
       "      <th>...</th>\n",
       "      <th>1398.HK</th>\n",
       "      <th>1880.HK</th>\n",
       "      <th>1928.HK</th>\n",
       "      <th>2018.HK</th>\n",
       "      <th>2318.HK</th>\n",
       "      <th>2319.HK</th>\n",
       "      <th>2388.HK</th>\n",
       "      <th>2628.HK</th>\n",
       "      <th>3328.HK</th>\n",
       "      <th>3988.HK</th>\n",
       "    </tr>\n",
       "  </thead>\n",
       "  <tbody>\n",
       "    <tr>\n",
       "      <th>2017-06-05</th>\n",
       "      <td>-0.009793</td>\n",
       "      <td>-0.010824</td>\n",
       "      <td>0.003455</td>\n",
       "      <td>0.018452</td>\n",
       "      <td>-0.001135</td>\n",
       "      <td>-0.001046</td>\n",
       "      <td>-0.005629</td>\n",
       "      <td>0.005908</td>\n",
       "      <td>0.001060</td>\n",
       "      <td>0.006053</td>\n",
       "      <td>...</td>\n",
       "      <td>-0.010113</td>\n",
       "      <td>0.005998</td>\n",
       "      <td>-0.010401</td>\n",
       "      <td>0.001060</td>\n",
       "      <td>-0.008851</td>\n",
       "      <td>0.007353</td>\n",
       "      <td>-0.010304</td>\n",
       "      <td>-0.014908</td>\n",
       "      <td>-0.007294</td>\n",
       "      <td>-0.009092</td>\n",
       "    </tr>\n",
       "    <tr>\n",
       "      <th>2017-06-06</th>\n",
       "      <td>0.002560</td>\n",
       "      <td>0.004765</td>\n",
       "      <td>-0.005345</td>\n",
       "      <td>0.020888</td>\n",
       "      <td>0.001954</td>\n",
       "      <td>-0.003239</td>\n",
       "      <td>0.001344</td>\n",
       "      <td>0.010962</td>\n",
       "      <td>0.042519</td>\n",
       "      <td>0.065770</td>\n",
       "      <td>...</td>\n",
       "      <td>-0.005345</td>\n",
       "      <td>-0.015246</td>\n",
       "      <td>-0.014028</td>\n",
       "      <td>-0.005345</td>\n",
       "      <td>0.007520</td>\n",
       "      <td>-0.020516</td>\n",
       "      <td>-0.002492</td>\n",
       "      <td>0.002671</td>\n",
       "      <td>-0.007024</td>\n",
       "      <td>-0.005345</td>\n",
       "    </tr>\n",
       "    <tr>\n",
       "      <th>2017-06-07</th>\n",
       "      <td>-0.006384</td>\n",
       "      <td>-0.002830</td>\n",
       "      <td>-0.002856</td>\n",
       "      <td>-0.007483</td>\n",
       "      <td>0.000993</td>\n",
       "      <td>-0.006087</td>\n",
       "      <td>-0.014498</td>\n",
       "      <td>-0.117411</td>\n",
       "      <td>-0.017527</td>\n",
       "      <td>-0.000461</td>\n",
       "      <td>...</td>\n",
       "      <td>-0.007980</td>\n",
       "      <td>0.009440</td>\n",
       "      <td>0.018258</td>\n",
       "      <td>0.127545</td>\n",
       "      <td>0.000522</td>\n",
       "      <td>-0.004290</td>\n",
       "      <td>-0.009044</td>\n",
       "      <td>0.005509</td>\n",
       "      <td>-0.005516</td>\n",
       "      <td>-0.008143</td>\n",
       "    </tr>\n",
       "    <tr>\n",
       "      <th>2017-06-08</th>\n",
       "      <td>-0.002604</td>\n",
       "      <td>-0.009135</td>\n",
       "      <td>0.000399</td>\n",
       "      <td>-0.011224</td>\n",
       "      <td>-0.003394</td>\n",
       "      <td>-0.001348</td>\n",
       "      <td>-0.004956</td>\n",
       "      <td>-0.016323</td>\n",
       "      <td>-0.008854</td>\n",
       "      <td>-0.016764</td>\n",
       "      <td>...</td>\n",
       "      <td>-0.005570</td>\n",
       "      <td>-0.003929</td>\n",
       "      <td>0.021173</td>\n",
       "      <td>0.033630</td>\n",
       "      <td>0.015811</td>\n",
       "      <td>0.012174</td>\n",
       "      <td>-0.004134</td>\n",
       "      <td>0.002335</td>\n",
       "      <td>-0.008954</td>\n",
       "      <td>-0.005570</td>\n",
       "    </tr>\n",
       "    <tr>\n",
       "      <th>2017-06-09</th>\n",
       "      <td>-0.008167</td>\n",
       "      <td>0.006533</td>\n",
       "      <td>-0.108578</td>\n",
       "      <td>-0.009527</td>\n",
       "      <td>-0.001065</td>\n",
       "      <td>-0.005840</td>\n",
       "      <td>0.011483</td>\n",
       "      <td>-0.000671</td>\n",
       "      <td>0.003927</td>\n",
       "      <td>0.008495</td>\n",
       "      <td>...</td>\n",
       "      <td>-0.010460</td>\n",
       "      <td>0.003109</td>\n",
       "      <td>0.007523</td>\n",
       "      <td>0.037958</td>\n",
       "      <td>0.005710</td>\n",
       "      <td>-0.000289</td>\n",
       "      <td>0.013321</td>\n",
       "      <td>0.006716</td>\n",
       "      <td>-0.000348</td>\n",
       "      <td>0.002175</td>\n",
       "    </tr>\n",
       "    <tr>\n",
       "      <th>2017-06-12</th>\n",
       "      <td>0.009712</td>\n",
       "      <td>0.001462</td>\n",
       "      <td>-0.006628</td>\n",
       "      <td>-0.008854</td>\n",
       "      <td>0.010026</td>\n",
       "      <td>0.002946</td>\n",
       "      <td>0.003637</td>\n",
       "      <td>0.003481</td>\n",
       "      <td>-0.006897</td>\n",
       "      <td>-0.010470</td>\n",
       "      <td>...</td>\n",
       "      <td>0.002590</td>\n",
       "      <td>0.007277</td>\n",
       "      <td>0.013599</td>\n",
       "      <td>-0.026202</td>\n",
       "      <td>0.001592</td>\n",
       "      <td>0.002063</td>\n",
       "      <td>0.003643</td>\n",
       "      <td>-0.011643</td>\n",
       "      <td>0.003661</td>\n",
       "      <td>-0.003370</td>\n",
       "    </tr>\n",
       "    <tr>\n",
       "      <th>2017-06-13</th>\n",
       "      <td>-0.009751</td>\n",
       "      <td>-0.004029</td>\n",
       "      <td>-0.001162</td>\n",
       "      <td>0.004270</td>\n",
       "      <td>-0.003041</td>\n",
       "      <td>-0.003798</td>\n",
       "      <td>0.001517</td>\n",
       "      <td>0.005675</td>\n",
       "      <td>0.005617</td>\n",
       "      <td>0.011832</td>\n",
       "      <td>...</td>\n",
       "      <td>-0.001369</td>\n",
       "      <td>-0.001935</td>\n",
       "      <td>0.020710</td>\n",
       "      <td>0.012882</td>\n",
       "      <td>-0.000387</td>\n",
       "      <td>-0.009064</td>\n",
       "      <td>-0.003796</td>\n",
       "      <td>-0.003220</td>\n",
       "      <td>0.001620</td>\n",
       "      <td>-0.002615</td>\n",
       "    </tr>\n",
       "    <tr>\n",
       "      <th>2017-06-14</th>\n",
       "      <td>-0.001116</td>\n",
       "      <td>-0.004305</td>\n",
       "      <td>-0.009333</td>\n",
       "      <td>-0.002915</td>\n",
       "      <td>0.002191</td>\n",
       "      <td>0.005064</td>\n",
       "      <td>-0.003826</td>\n",
       "      <td>-0.009082</td>\n",
       "      <td>0.004578</td>\n",
       "      <td>-0.002735</td>\n",
       "      <td>...</td>\n",
       "      <td>0.006766</td>\n",
       "      <td>0.001274</td>\n",
       "      <td>0.004267</td>\n",
       "      <td>-0.001706</td>\n",
       "      <td>-0.006789</td>\n",
       "      <td>-0.003503</td>\n",
       "      <td>0.001486</td>\n",
       "      <td>-0.001104</td>\n",
       "      <td>-0.002213</td>\n",
       "      <td>0.002920</td>\n",
       "    </tr>\n",
       "    <tr>\n",
       "      <th>2017-06-15</th>\n",
       "      <td>0.009570</td>\n",
       "      <td>0.015910</td>\n",
       "      <td>0.002835</td>\n",
       "      <td>0.002271</td>\n",
       "      <td>0.000087</td>\n",
       "      <td>0.011088</td>\n",
       "      <td>0.010472</td>\n",
       "      <td>0.003374</td>\n",
       "      <td>-0.005621</td>\n",
       "      <td>-0.011858</td>\n",
       "      <td>...</td>\n",
       "      <td>-0.004386</td>\n",
       "      <td>0.011088</td>\n",
       "      <td>0.004336</td>\n",
       "      <td>0.010057</td>\n",
       "      <td>-0.010609</td>\n",
       "      <td>-0.008431</td>\n",
       "      <td>0.003888</td>\n",
       "      <td>-0.021702</td>\n",
       "      <td>-0.000992</td>\n",
       "      <td>-0.002053</td>\n",
       "    </tr>\n",
       "    <tr>\n",
       "      <th>2017-06-16</th>\n",
       "      <td>-0.007636</td>\n",
       "      <td>0.003589</td>\n",
       "      <td>0.006870</td>\n",
       "      <td>0.001463</td>\n",
       "      <td>0.008067</td>\n",
       "      <td>-0.000726</td>\n",
       "      <td>-0.006189</td>\n",
       "      <td>-0.013375</td>\n",
       "      <td>-0.005927</td>\n",
       "      <td>-0.001948</td>\n",
       "      <td>...</td>\n",
       "      <td>0.011616</td>\n",
       "      <td>0.004918</td>\n",
       "      <td>0.005393</td>\n",
       "      <td>-0.009859</td>\n",
       "      <td>-0.000012</td>\n",
       "      <td>0.005230</td>\n",
       "      <td>-0.000012</td>\n",
       "      <td>-0.000012</td>\n",
       "      <td>0.005183</td>\n",
       "      <td>0.007893</td>\n",
       "    </tr>\n",
       "  </tbody>\n",
       "</table>\n",
       "<p>10 rows × 50 columns</p>\n",
       "</div>"
      ],
      "text/plain": [
       "             0001.HK   0002.HK   0003.HK   0004.HK   0005.HK   0006.HK  \\\n",
       "2017-06-05 -0.009793 -0.010824  0.003455  0.018452 -0.001135 -0.001046   \n",
       "2017-06-06  0.002560  0.004765 -0.005345  0.020888  0.001954 -0.003239   \n",
       "2017-06-07 -0.006384 -0.002830 -0.002856 -0.007483  0.000993 -0.006087   \n",
       "2017-06-08 -0.002604 -0.009135  0.000399 -0.011224 -0.003394 -0.001348   \n",
       "2017-06-09 -0.008167  0.006533 -0.108578 -0.009527 -0.001065 -0.005840   \n",
       "2017-06-12  0.009712  0.001462 -0.006628 -0.008854  0.010026  0.002946   \n",
       "2017-06-13 -0.009751 -0.004029 -0.001162  0.004270 -0.003041 -0.003798   \n",
       "2017-06-14 -0.001116 -0.004305 -0.009333 -0.002915  0.002191  0.005064   \n",
       "2017-06-15  0.009570  0.015910  0.002835  0.002271  0.000087  0.011088   \n",
       "2017-06-16 -0.007636  0.003589  0.006870  0.001463  0.008067 -0.000726   \n",
       "\n",
       "             0011.HK   0012.HK   0016.HK   0017.HK    ...      1398.HK  \\\n",
       "2017-06-05 -0.005629  0.005908  0.001060  0.006053    ...    -0.010113   \n",
       "2017-06-06  0.001344  0.010962  0.042519  0.065770    ...    -0.005345   \n",
       "2017-06-07 -0.014498 -0.117411 -0.017527 -0.000461    ...    -0.007980   \n",
       "2017-06-08 -0.004956 -0.016323 -0.008854 -0.016764    ...    -0.005570   \n",
       "2017-06-09  0.011483 -0.000671  0.003927  0.008495    ...    -0.010460   \n",
       "2017-06-12  0.003637  0.003481 -0.006897 -0.010470    ...     0.002590   \n",
       "2017-06-13  0.001517  0.005675  0.005617  0.011832    ...    -0.001369   \n",
       "2017-06-14 -0.003826 -0.009082  0.004578 -0.002735    ...     0.006766   \n",
       "2017-06-15  0.010472  0.003374 -0.005621 -0.011858    ...    -0.004386   \n",
       "2017-06-16 -0.006189 -0.013375 -0.005927 -0.001948    ...     0.011616   \n",
       "\n",
       "             1880.HK   1928.HK   2018.HK   2318.HK   2319.HK   2388.HK  \\\n",
       "2017-06-05  0.005998 -0.010401  0.001060 -0.008851  0.007353 -0.010304   \n",
       "2017-06-06 -0.015246 -0.014028 -0.005345  0.007520 -0.020516 -0.002492   \n",
       "2017-06-07  0.009440  0.018258  0.127545  0.000522 -0.004290 -0.009044   \n",
       "2017-06-08 -0.003929  0.021173  0.033630  0.015811  0.012174 -0.004134   \n",
       "2017-06-09  0.003109  0.007523  0.037958  0.005710 -0.000289  0.013321   \n",
       "2017-06-12  0.007277  0.013599 -0.026202  0.001592  0.002063  0.003643   \n",
       "2017-06-13 -0.001935  0.020710  0.012882 -0.000387 -0.009064 -0.003796   \n",
       "2017-06-14  0.001274  0.004267 -0.001706 -0.006789 -0.003503  0.001486   \n",
       "2017-06-15  0.011088  0.004336  0.010057 -0.010609 -0.008431  0.003888   \n",
       "2017-06-16  0.004918  0.005393 -0.009859 -0.000012  0.005230 -0.000012   \n",
       "\n",
       "             2628.HK   3328.HK   3988.HK  \n",
       "2017-06-05 -0.014908 -0.007294 -0.009092  \n",
       "2017-06-06  0.002671 -0.007024 -0.005345  \n",
       "2017-06-07  0.005509 -0.005516 -0.008143  \n",
       "2017-06-08  0.002335 -0.008954 -0.005570  \n",
       "2017-06-09  0.006716 -0.000348  0.002175  \n",
       "2017-06-12 -0.011643  0.003661 -0.003370  \n",
       "2017-06-13 -0.003220  0.001620 -0.002615  \n",
       "2017-06-14 -0.001104 -0.002213  0.002920  \n",
       "2017-06-15 -0.021702 -0.000992 -0.002053  \n",
       "2017-06-16 -0.000012  0.005183  0.007893  \n",
       "\n",
       "[10 rows x 50 columns]"
      ]
     },
     "execution_count": 12,
     "metadata": {},
     "output_type": "execute_result"
    }
   ],
   "source": [
    "cr.tail(10)"
   ]
  },
  {
   "cell_type": "code",
   "execution_count": 13,
   "metadata": {
    "collapsed": true
   },
   "outputs": [],
   "source": [
    "import talib"
   ]
  },
  {
   "cell_type": "code",
   "execution_count": 14,
   "metadata": {
    "collapsed": true
   },
   "outputs": [],
   "source": [
    "from hermanubis.rolling import Correlation, Stddev"
   ]
  },
  {
   "cell_type": "code",
   "execution_count": 15,
   "metadata": {
    "collapsed": true
   },
   "outputs": [],
   "source": [
    "from hermanubis.cross_section import Rank"
   ]
  },
  {
   "cell_type": "code",
   "execution_count": 16,
   "metadata": {
    "collapsed": true
   },
   "outputs": [],
   "source": [
    "high = Column(\"High\")\n",
    "volume = Column(\"Volume\")\n",
    "correlation = Correlation(high, volume, 10)"
   ]
  },
  {
   "cell_type": "code",
   "execution_count": 17,
   "metadata": {
    "collapsed": true
   },
   "outputs": [],
   "source": [
    "stddev = Stddev(high, 10)"
   ]
  },
  {
   "cell_type": "code",
   "execution_count": 18,
   "metadata": {
    "collapsed": true
   },
   "outputs": [],
   "source": [
    "rank = Rank(stddev)"
   ]
  },
  {
   "cell_type": "code",
   "execution_count": 19,
   "metadata": {
    "collapsed": true
   },
   "outputs": [],
   "source": [
    "weight = rank * correlation"
   ]
  },
  {
   "cell_type": "code",
   "execution_count": 20,
   "metadata": {
    "collapsed": false
   },
   "outputs": [
    {
     "name": "stderr",
     "output_type": "stream",
     "text": [
      "/Users/jchan/workspace/python/hermanubis/hermanubis/rolling.py:207: FutureWarning: pd.rolling_std is deprecated for DataFrame and will be removed in a future version, replace with \n",
      "\tDataFrame.rolling(window=10,center=False).std()\n",
      "  return pd.rolling_std(val, self.periods)\n",
      "/Users/jchan/workspace/python/hermanubis/hermanubis/rolling.py:258: FutureWarning: pd.rolling_corr is deprecated for DataFrame and will be removed in a future version, replace with \n",
      "\tDataFrame.rolling(window=10).corr(other=<DataFrame>)\n",
      "  return pd.rolling_corr(lval, rval, periods)\n"
     ]
    }
   ],
   "source": [
    "w0 = weight.evaluate(pf)"
   ]
  },
  {
   "cell_type": "code",
   "execution_count": 21,
   "metadata": {
    "collapsed": false
   },
   "outputs": [
    {
     "data": {
      "text/html": [
       "<div>\n",
       "<style>\n",
       "    .dataframe thead tr:only-child th {\n",
       "        text-align: right;\n",
       "    }\n",
       "\n",
       "    .dataframe thead th {\n",
       "        text-align: left;\n",
       "    }\n",
       "\n",
       "    .dataframe tbody tr th {\n",
       "        vertical-align: top;\n",
       "    }\n",
       "</style>\n",
       "<table border=\"1\" class=\"dataframe\">\n",
       "  <thead>\n",
       "    <tr style=\"text-align: right;\">\n",
       "      <th></th>\n",
       "      <th>0001.HK</th>\n",
       "      <th>0002.HK</th>\n",
       "      <th>0003.HK</th>\n",
       "      <th>0004.HK</th>\n",
       "      <th>0005.HK</th>\n",
       "      <th>0006.HK</th>\n",
       "      <th>0011.HK</th>\n",
       "      <th>0012.HK</th>\n",
       "      <th>0016.HK</th>\n",
       "      <th>0017.HK</th>\n",
       "      <th>...</th>\n",
       "      <th>1398.HK</th>\n",
       "      <th>1880.HK</th>\n",
       "      <th>1928.HK</th>\n",
       "      <th>2018.HK</th>\n",
       "      <th>2318.HK</th>\n",
       "      <th>2319.HK</th>\n",
       "      <th>2388.HK</th>\n",
       "      <th>2628.HK</th>\n",
       "      <th>3328.HK</th>\n",
       "      <th>3988.HK</th>\n",
       "    </tr>\n",
       "  </thead>\n",
       "  <tbody>\n",
       "    <tr>\n",
       "      <th>2017-06-05</th>\n",
       "      <td>-0.130110</td>\n",
       "      <td>0.368156</td>\n",
       "      <td>0.284218</td>\n",
       "      <td>0.531272</td>\n",
       "      <td>0.128445</td>\n",
       "      <td>0.341554</td>\n",
       "      <td>-0.080197</td>\n",
       "      <td>0.713286</td>\n",
       "      <td>0.145389</td>\n",
       "      <td>0.131516</td>\n",
       "      <td>...</td>\n",
       "      <td>0.095543</td>\n",
       "      <td>-0.003906</td>\n",
       "      <td>0.265450</td>\n",
       "      <td>NaN</td>\n",
       "      <td>0.033223</td>\n",
       "      <td>-0.028564</td>\n",
       "      <td>-0.072834</td>\n",
       "      <td>0.103835</td>\n",
       "      <td>0.028291</td>\n",
       "      <td>0.023356</td>\n",
       "    </tr>\n",
       "    <tr>\n",
       "      <th>2017-06-06</th>\n",
       "      <td>-0.155617</td>\n",
       "      <td>0.355054</td>\n",
       "      <td>0.231622</td>\n",
       "      <td>0.399598</td>\n",
       "      <td>0.388958</td>\n",
       "      <td>0.250713</td>\n",
       "      <td>-0.053290</td>\n",
       "      <td>0.739191</td>\n",
       "      <td>0.816417</td>\n",
       "      <td>0.420520</td>\n",
       "      <td>...</td>\n",
       "      <td>0.081458</td>\n",
       "      <td>-0.003016</td>\n",
       "      <td>0.225029</td>\n",
       "      <td>NaN</td>\n",
       "      <td>0.074091</td>\n",
       "      <td>-0.002660</td>\n",
       "      <td>-0.016860</td>\n",
       "      <td>0.169184</td>\n",
       "      <td>0.025495</td>\n",
       "      <td>0.020783</td>\n",
       "    </tr>\n",
       "    <tr>\n",
       "      <th>2017-06-07</th>\n",
       "      <td>0.111221</td>\n",
       "      <td>0.232222</td>\n",
       "      <td>0.204043</td>\n",
       "      <td>0.298728</td>\n",
       "      <td>0.482096</td>\n",
       "      <td>0.164015</td>\n",
       "      <td>0.172957</td>\n",
       "      <td>0.782444</td>\n",
       "      <td>0.764665</td>\n",
       "      <td>0.573800</td>\n",
       "      <td>...</td>\n",
       "      <td>0.105579</td>\n",
       "      <td>-0.003943</td>\n",
       "      <td>0.314448</td>\n",
       "      <td>NaN</td>\n",
       "      <td>0.145887</td>\n",
       "      <td>-0.004580</td>\n",
       "      <td>0.045179</td>\n",
       "      <td>0.203593</td>\n",
       "      <td>0.016398</td>\n",
       "      <td>0.024740</td>\n",
       "    </tr>\n",
       "    <tr>\n",
       "      <th>2017-06-08</th>\n",
       "      <td>0.189899</td>\n",
       "      <td>0.226106</td>\n",
       "      <td>0.184722</td>\n",
       "      <td>0.164031</td>\n",
       "      <td>0.537453</td>\n",
       "      <td>0.034554</td>\n",
       "      <td>0.049226</td>\n",
       "      <td>0.698418</td>\n",
       "      <td>0.677407</td>\n",
       "      <td>0.507196</td>\n",
       "      <td>...</td>\n",
       "      <td>0.068480</td>\n",
       "      <td>-0.005160</td>\n",
       "      <td>0.535804</td>\n",
       "      <td>NaN</td>\n",
       "      <td>0.065740</td>\n",
       "      <td>0.022052</td>\n",
       "      <td>0.027559</td>\n",
       "      <td>0.154837</td>\n",
       "      <td>0.017455</td>\n",
       "      <td>0.027336</td>\n",
       "    </tr>\n",
       "    <tr>\n",
       "      <th>2017-06-09</th>\n",
       "      <td>-0.541273</td>\n",
       "      <td>0.152418</td>\n",
       "      <td>0.153915</td>\n",
       "      <td>0.068239</td>\n",
       "      <td>0.490501</td>\n",
       "      <td>-0.084304</td>\n",
       "      <td>-0.156433</td>\n",
       "      <td>0.663704</td>\n",
       "      <td>0.612330</td>\n",
       "      <td>0.462252</td>\n",
       "      <td>...</td>\n",
       "      <td>0.051148</td>\n",
       "      <td>-0.002679</td>\n",
       "      <td>0.498331</td>\n",
       "      <td>NaN</td>\n",
       "      <td>0.279918</td>\n",
       "      <td>0.121271</td>\n",
       "      <td>0.050914</td>\n",
       "      <td>0.182879</td>\n",
       "      <td>-0.027758</td>\n",
       "      <td>-0.007907</td>\n",
       "    </tr>\n",
       "    <tr>\n",
       "      <th>2017-06-12</th>\n",
       "      <td>-0.407185</td>\n",
       "      <td>0.052388</td>\n",
       "      <td>0.062712</td>\n",
       "      <td>-0.034166</td>\n",
       "      <td>0.370105</td>\n",
       "      <td>-0.141965</td>\n",
       "      <td>-0.274021</td>\n",
       "      <td>0.519058</td>\n",
       "      <td>0.515706</td>\n",
       "      <td>0.396662</td>\n",
       "      <td>...</td>\n",
       "      <td>0.036051</td>\n",
       "      <td>-0.006063</td>\n",
       "      <td>0.491672</td>\n",
       "      <td>NaN</td>\n",
       "      <td>0.367489</td>\n",
       "      <td>0.093540</td>\n",
       "      <td>0.062978</td>\n",
       "      <td>0.223133</td>\n",
       "      <td>-0.008700</td>\n",
       "      <td>-0.006922</td>\n",
       "    </tr>\n",
       "    <tr>\n",
       "      <th>2017-06-13</th>\n",
       "      <td>-0.377390</td>\n",
       "      <td>0.048313</td>\n",
       "      <td>0.024678</td>\n",
       "      <td>-0.146840</td>\n",
       "      <td>0.284930</td>\n",
       "      <td>-0.303729</td>\n",
       "      <td>-0.217114</td>\n",
       "      <td>0.353764</td>\n",
       "      <td>0.457227</td>\n",
       "      <td>0.332990</td>\n",
       "      <td>...</td>\n",
       "      <td>0.040500</td>\n",
       "      <td>-0.004222</td>\n",
       "      <td>0.580306</td>\n",
       "      <td>NaN</td>\n",
       "      <td>0.361766</td>\n",
       "      <td>0.099335</td>\n",
       "      <td>0.072892</td>\n",
       "      <td>0.205869</td>\n",
       "      <td>0.016238</td>\n",
       "      <td>0.002445</td>\n",
       "    </tr>\n",
       "    <tr>\n",
       "      <th>2017-06-14</th>\n",
       "      <td>-0.282514</td>\n",
       "      <td>0.110462</td>\n",
       "      <td>0.098868</td>\n",
       "      <td>-0.090848</td>\n",
       "      <td>0.161249</td>\n",
       "      <td>0.034670</td>\n",
       "      <td>-0.167100</td>\n",
       "      <td>0.244391</td>\n",
       "      <td>0.526967</td>\n",
       "      <td>0.284407</td>\n",
       "      <td>...</td>\n",
       "      <td>0.055044</td>\n",
       "      <td>-0.004087</td>\n",
       "      <td>0.394956</td>\n",
       "      <td>NaN</td>\n",
       "      <td>0.625475</td>\n",
       "      <td>0.135040</td>\n",
       "      <td>0.064023</td>\n",
       "      <td>-0.004529</td>\n",
       "      <td>0.026038</td>\n",
       "      <td>0.007290</td>\n",
       "    </tr>\n",
       "    <tr>\n",
       "      <th>2017-06-15</th>\n",
       "      <td>-0.126876</td>\n",
       "      <td>0.114672</td>\n",
       "      <td>0.114864</td>\n",
       "      <td>0.016853</td>\n",
       "      <td>0.140865</td>\n",
       "      <td>0.200302</td>\n",
       "      <td>0.032716</td>\n",
       "      <td>0.410177</td>\n",
       "      <td>0.595312</td>\n",
       "      <td>0.180372</td>\n",
       "      <td>...</td>\n",
       "      <td>0.067308</td>\n",
       "      <td>-0.002501</td>\n",
       "      <td>0.275453</td>\n",
       "      <td>NaN</td>\n",
       "      <td>0.612336</td>\n",
       "      <td>0.094436</td>\n",
       "      <td>0.059780</td>\n",
       "      <td>-0.211451</td>\n",
       "      <td>0.006125</td>\n",
       "      <td>0.012743</td>\n",
       "    </tr>\n",
       "    <tr>\n",
       "      <th>2017-06-16</th>\n",
       "      <td>-0.095414</td>\n",
       "      <td>-0.050976</td>\n",
       "      <td>0.150336</td>\n",
       "      <td>0.763549</td>\n",
       "      <td>0.133072</td>\n",
       "      <td>-0.005189</td>\n",
       "      <td>-0.266939</td>\n",
       "      <td>-0.083195</td>\n",
       "      <td>0.604111</td>\n",
       "      <td>0.188166</td>\n",
       "      <td>...</td>\n",
       "      <td>0.005921</td>\n",
       "      <td>0.005262</td>\n",
       "      <td>0.179401</td>\n",
       "      <td>0.297953</td>\n",
       "      <td>0.646561</td>\n",
       "      <td>0.035594</td>\n",
       "      <td>-0.029044</td>\n",
       "      <td>-0.312841</td>\n",
       "      <td>-0.016666</td>\n",
       "      <td>0.015387</td>\n",
       "    </tr>\n",
       "  </tbody>\n",
       "</table>\n",
       "<p>10 rows × 50 columns</p>\n",
       "</div>"
      ],
      "text/plain": [
       "             0001.HK   0002.HK   0003.HK   0004.HK   0005.HK   0006.HK  \\\n",
       "2017-06-05 -0.130110  0.368156  0.284218  0.531272  0.128445  0.341554   \n",
       "2017-06-06 -0.155617  0.355054  0.231622  0.399598  0.388958  0.250713   \n",
       "2017-06-07  0.111221  0.232222  0.204043  0.298728  0.482096  0.164015   \n",
       "2017-06-08  0.189899  0.226106  0.184722  0.164031  0.537453  0.034554   \n",
       "2017-06-09 -0.541273  0.152418  0.153915  0.068239  0.490501 -0.084304   \n",
       "2017-06-12 -0.407185  0.052388  0.062712 -0.034166  0.370105 -0.141965   \n",
       "2017-06-13 -0.377390  0.048313  0.024678 -0.146840  0.284930 -0.303729   \n",
       "2017-06-14 -0.282514  0.110462  0.098868 -0.090848  0.161249  0.034670   \n",
       "2017-06-15 -0.126876  0.114672  0.114864  0.016853  0.140865  0.200302   \n",
       "2017-06-16 -0.095414 -0.050976  0.150336  0.763549  0.133072 -0.005189   \n",
       "\n",
       "             0011.HK   0012.HK   0016.HK   0017.HK    ...      1398.HK  \\\n",
       "2017-06-05 -0.080197  0.713286  0.145389  0.131516    ...     0.095543   \n",
       "2017-06-06 -0.053290  0.739191  0.816417  0.420520    ...     0.081458   \n",
       "2017-06-07  0.172957  0.782444  0.764665  0.573800    ...     0.105579   \n",
       "2017-06-08  0.049226  0.698418  0.677407  0.507196    ...     0.068480   \n",
       "2017-06-09 -0.156433  0.663704  0.612330  0.462252    ...     0.051148   \n",
       "2017-06-12 -0.274021  0.519058  0.515706  0.396662    ...     0.036051   \n",
       "2017-06-13 -0.217114  0.353764  0.457227  0.332990    ...     0.040500   \n",
       "2017-06-14 -0.167100  0.244391  0.526967  0.284407    ...     0.055044   \n",
       "2017-06-15  0.032716  0.410177  0.595312  0.180372    ...     0.067308   \n",
       "2017-06-16 -0.266939 -0.083195  0.604111  0.188166    ...     0.005921   \n",
       "\n",
       "             1880.HK   1928.HK   2018.HK   2318.HK   2319.HK   2388.HK  \\\n",
       "2017-06-05 -0.003906  0.265450       NaN  0.033223 -0.028564 -0.072834   \n",
       "2017-06-06 -0.003016  0.225029       NaN  0.074091 -0.002660 -0.016860   \n",
       "2017-06-07 -0.003943  0.314448       NaN  0.145887 -0.004580  0.045179   \n",
       "2017-06-08 -0.005160  0.535804       NaN  0.065740  0.022052  0.027559   \n",
       "2017-06-09 -0.002679  0.498331       NaN  0.279918  0.121271  0.050914   \n",
       "2017-06-12 -0.006063  0.491672       NaN  0.367489  0.093540  0.062978   \n",
       "2017-06-13 -0.004222  0.580306       NaN  0.361766  0.099335  0.072892   \n",
       "2017-06-14 -0.004087  0.394956       NaN  0.625475  0.135040  0.064023   \n",
       "2017-06-15 -0.002501  0.275453       NaN  0.612336  0.094436  0.059780   \n",
       "2017-06-16  0.005262  0.179401  0.297953  0.646561  0.035594 -0.029044   \n",
       "\n",
       "             2628.HK   3328.HK   3988.HK  \n",
       "2017-06-05  0.103835  0.028291  0.023356  \n",
       "2017-06-06  0.169184  0.025495  0.020783  \n",
       "2017-06-07  0.203593  0.016398  0.024740  \n",
       "2017-06-08  0.154837  0.017455  0.027336  \n",
       "2017-06-09  0.182879 -0.027758 -0.007907  \n",
       "2017-06-12  0.223133 -0.008700 -0.006922  \n",
       "2017-06-13  0.205869  0.016238  0.002445  \n",
       "2017-06-14 -0.004529  0.026038  0.007290  \n",
       "2017-06-15 -0.211451  0.006125  0.012743  \n",
       "2017-06-16 -0.312841 -0.016666  0.015387  \n",
       "\n",
       "[10 rows x 50 columns]"
      ]
     },
     "execution_count": 21,
     "metadata": {},
     "output_type": "execute_result"
    }
   ],
   "source": [
    "w0.tail(10)"
   ]
  },
  {
   "cell_type": "code",
   "execution_count": 22,
   "metadata": {
    "collapsed": true
   },
   "outputs": [],
   "source": [
    "close = Column('Close')\n",
    "pct_ret = Delta(close, periods=1, fillna_val=0) / Delay(close, periods=1, fillna_val=0)"
   ]
  },
  {
   "cell_type": "code",
   "execution_count": 23,
   "metadata": {
    "collapsed": false
   },
   "outputs": [
    {
     "ename": "TypeError",
     "evalue": "Condition given to the op has to be a scalar with 0 standing for False, anything else for True",
     "output_type": "error",
     "traceback": [
      "\u001b[0;31m---------------------------------------------------------------------------\u001b[0m",
      "\u001b[0;31mTypeError\u001b[0m                                 Traceback (most recent call last)",
      "\u001b[0;32m<ipython-input-23-2d414f4330e9>\u001b[0m in \u001b[0;36m<module>\u001b[0;34m()\u001b[0m\n\u001b[0;32m----> 1\u001b[0;31m \u001b[0;32mfrom\u001b[0m \u001b[0mhermanubis\u001b[0m\u001b[0;34m.\u001b[0m\u001b[0mconditions\u001b[0m \u001b[0;32mimport\u001b[0m \u001b[0mIfElse\u001b[0m\u001b[0;34m\u001b[0m\u001b[0m\n\u001b[0m",
      "\u001b[0;32m/Users/jchan/workspace/python/hermanubis/hermanubis/conditions.py\u001b[0m in \u001b[0;36m<module>\u001b[0;34m()\u001b[0m\n\u001b[1;32m     10\u001b[0m \u001b[0mfe\u001b[0m \u001b[0;34m=\u001b[0m \u001b[0mT\u001b[0m\u001b[0;34m.\u001b[0m\u001b[0mfmatrix\u001b[0m\u001b[0;34m(\u001b[0m\u001b[0;34m'fe'\u001b[0m\u001b[0;34m)\u001b[0m\u001b[0;34m\u001b[0m\u001b[0m\n\u001b[1;32m     11\u001b[0m \u001b[0;34m\u001b[0m\u001b[0m\n\u001b[0;32m---> 12\u001b[0;31m \u001b[0mout\u001b[0m \u001b[0;34m=\u001b[0m \u001b[0mifelse\u001b[0m\u001b[0;34m(\u001b[0m\u001b[0mp\u001b[0m\u001b[0;34m,\u001b[0m \u001b[0mte\u001b[0m\u001b[0;34m,\u001b[0m \u001b[0mfe\u001b[0m\u001b[0;34m)\u001b[0m\u001b[0;34m\u001b[0m\u001b[0m\n\u001b[0m\u001b[1;32m     13\u001b[0m \u001b[0;34m\u001b[0m\u001b[0m\n\u001b[1;32m     14\u001b[0m \u001b[0mifelse_fn\u001b[0m \u001b[0;34m=\u001b[0m \u001b[0mtheano\u001b[0m\u001b[0;34m.\u001b[0m\u001b[0mfunction\u001b[0m\u001b[0;34m(\u001b[0m\u001b[0;34m[\u001b[0m\u001b[0mp\u001b[0m\u001b[0;34m,\u001b[0m \u001b[0mte\u001b[0m\u001b[0;34m,\u001b[0m \u001b[0mfe\u001b[0m\u001b[0;34m]\u001b[0m\u001b[0;34m,\u001b[0m \u001b[0moutputs\u001b[0m\u001b[0;34m=\u001b[0m\u001b[0mout\u001b[0m\u001b[0;34m,\u001b[0m \u001b[0mmode\u001b[0m\u001b[0;34m=\u001b[0m\u001b[0mtheano\u001b[0m\u001b[0;34m.\u001b[0m\u001b[0mMode\u001b[0m\u001b[0;34m(\u001b[0m\u001b[0mlinker\u001b[0m\u001b[0;34m=\u001b[0m\u001b[0;34m'vm'\u001b[0m\u001b[0;34m)\u001b[0m\u001b[0;34m)\u001b[0m\u001b[0;34m\u001b[0m\u001b[0m\n",
      "\u001b[0;32m/Users/jchan/anaconda/envs/idp3/lib/python3.5/site-packages/theano/ifelse.py\u001b[0m in \u001b[0;36mifelse\u001b[0;34m(condition, then_branch, else_branch, name)\u001b[0m\n\u001b[1;32m    383\u001b[0m \u001b[0;34m\u001b[0m\u001b[0m\n\u001b[1;32m    384\u001b[0m     \u001b[0mins\u001b[0m \u001b[0;34m=\u001b[0m \u001b[0;34m[\u001b[0m\u001b[0mcondition\u001b[0m\u001b[0;34m]\u001b[0m \u001b[0;34m+\u001b[0m \u001b[0mlist\u001b[0m\u001b[0;34m(\u001b[0m\u001b[0mnew_then_branch\u001b[0m\u001b[0;34m)\u001b[0m \u001b[0;34m+\u001b[0m \u001b[0mlist\u001b[0m\u001b[0;34m(\u001b[0m\u001b[0mnew_else_branch\u001b[0m\u001b[0;34m)\u001b[0m\u001b[0;34m\u001b[0m\u001b[0m\n\u001b[0;32m--> 385\u001b[0;31m     \u001b[0mrval\u001b[0m \u001b[0;34m=\u001b[0m \u001b[0mnew_ifelse\u001b[0m\u001b[0;34m(\u001b[0m\u001b[0;34m*\u001b[0m\u001b[0mins\u001b[0m\u001b[0;34m,\u001b[0m \u001b[0;34m**\u001b[0m\u001b[0mdict\u001b[0m\u001b[0;34m(\u001b[0m\u001b[0mreturn_list\u001b[0m\u001b[0;34m=\u001b[0m\u001b[0;32mTrue\u001b[0m\u001b[0;34m)\u001b[0m\u001b[0;34m)\u001b[0m\u001b[0;34m\u001b[0m\u001b[0m\n\u001b[0m\u001b[1;32m    386\u001b[0m \u001b[0;34m\u001b[0m\u001b[0m\n\u001b[1;32m    387\u001b[0m     \u001b[0;32mif\u001b[0m \u001b[0mrval_type\u001b[0m \u001b[0;32mis\u001b[0m \u001b[0;32mNone\u001b[0m\u001b[0;34m:\u001b[0m\u001b[0;34m\u001b[0m\u001b[0m\n",
      "\u001b[0;32m/Users/jchan/anaconda/envs/idp3/lib/python3.5/site-packages/theano/gof/op.py\u001b[0m in \u001b[0;36m__call__\u001b[0;34m(self, *inputs, **kwargs)\u001b[0m\n\u001b[1;32m    609\u001b[0m         \"\"\"\n\u001b[1;32m    610\u001b[0m         \u001b[0mreturn_list\u001b[0m \u001b[0;34m=\u001b[0m \u001b[0mkwargs\u001b[0m\u001b[0;34m.\u001b[0m\u001b[0mpop\u001b[0m\u001b[0;34m(\u001b[0m\u001b[0;34m'return_list'\u001b[0m\u001b[0;34m,\u001b[0m \u001b[0;32mFalse\u001b[0m\u001b[0;34m)\u001b[0m\u001b[0;34m\u001b[0m\u001b[0m\n\u001b[0;32m--> 611\u001b[0;31m         \u001b[0mnode\u001b[0m \u001b[0;34m=\u001b[0m \u001b[0mself\u001b[0m\u001b[0;34m.\u001b[0m\u001b[0mmake_node\u001b[0m\u001b[0;34m(\u001b[0m\u001b[0;34m*\u001b[0m\u001b[0minputs\u001b[0m\u001b[0;34m,\u001b[0m \u001b[0;34m**\u001b[0m\u001b[0mkwargs\u001b[0m\u001b[0;34m)\u001b[0m\u001b[0;34m\u001b[0m\u001b[0m\n\u001b[0m\u001b[1;32m    612\u001b[0m \u001b[0;34m\u001b[0m\u001b[0m\n\u001b[1;32m    613\u001b[0m         \u001b[0;32mif\u001b[0m \u001b[0mconfig\u001b[0m\u001b[0;34m.\u001b[0m\u001b[0mcompute_test_value\u001b[0m \u001b[0;34m!=\u001b[0m \u001b[0;34m'off'\u001b[0m\u001b[0;34m:\u001b[0m\u001b[0;34m\u001b[0m\u001b[0m\n",
      "\u001b[0;32m/Users/jchan/anaconda/envs/idp3/lib/python3.5/site-packages/theano/ifelse.py\u001b[0m in \u001b[0;36mmake_node\u001b[0;34m(self, c, *args)\u001b[0m\n\u001b[1;32m    187\u001b[0m                                 'false return values'), t, f, t.type, f.type)\n\u001b[1;32m    188\u001b[0m         \u001b[0;32mif\u001b[0m \u001b[0mc\u001b[0m\u001b[0;34m.\u001b[0m\u001b[0mndim\u001b[0m \u001b[0;34m>\u001b[0m \u001b[0;36m0\u001b[0m\u001b[0;34m:\u001b[0m\u001b[0;34m\u001b[0m\u001b[0m\n\u001b[0;32m--> 189\u001b[0;31m             raise TypeError(('Condition given to the op has to be a scalar '\n\u001b[0m\u001b[1;32m    190\u001b[0m                              \u001b[0;34m'with 0 standing for False, anything else '\u001b[0m\u001b[0;34m\u001b[0m\u001b[0m\n\u001b[1;32m    191\u001b[0m                              'for True'))\n",
      "\u001b[0;31mTypeError\u001b[0m: Condition given to the op has to be a scalar with 0 standing for False, anything else for True"
     ]
    }
   ],
   "source": [
    "from hermanubis.conditions import IfElse"
   ]
  },
  {
   "cell_type": "code",
   "execution_count": null,
   "metadata": {
    "collapsed": true
   },
   "outputs": [],
   "source": []
  }
 ],
 "metadata": {
  "anaconda-cloud": {},
  "kernelspec": {
   "display_name": "Python [idp3]",
   "language": "python",
   "name": "Python [idp3]"
  },
  "language_info": {
   "codemirror_mode": {
    "name": "ipython",
    "version": 3
   },
   "file_extension": ".py",
   "mimetype": "text/x-python",
   "name": "python",
   "nbconvert_exporter": "python",
   "pygments_lexer": "ipython3",
   "version": "3.5.3"
  }
 },
 "nbformat": 4,
 "nbformat_minor": 0
}
